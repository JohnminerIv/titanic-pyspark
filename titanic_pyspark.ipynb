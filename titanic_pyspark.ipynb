{
 "cells": [
  {
   "cell_type": "code",
   "execution_count": 42,
   "metadata": {},
   "outputs": [
    {
     "ename": "ValueError",
     "evalue": "Cannot run multiple SparkContexts at once; existing SparkContext(app=pyspark-shell, master=local[*]) created by __init__ at <ipython-input-1-110e88b7089a>:2 ",
     "output_type": "error",
     "traceback": [
      "\u001b[0;31m---------------------------------------------------------------------------\u001b[0m",
      "\u001b[0;31mValueError\u001b[0m                                Traceback (most recent call last)",
      "\u001b[0;32m<ipython-input-42-355af0124fd4>\u001b[0m in \u001b[0;36m<module>\u001b[0;34m\u001b[0m\n\u001b[1;32m      1\u001b[0m \u001b[0;32mfrom\u001b[0m \u001b[0mpyspark\u001b[0m \u001b[0;32mimport\u001b[0m \u001b[0mSparkContext\u001b[0m\u001b[0;34m\u001b[0m\u001b[0;34m\u001b[0m\u001b[0m\n\u001b[0;32m----> 2\u001b[0;31m \u001b[0msc\u001b[0m \u001b[0;34m=\u001b[0m \u001b[0mSparkContext\u001b[0m\u001b[0;34m(\u001b[0m\u001b[0;34m)\u001b[0m\u001b[0;34m\u001b[0m\u001b[0;34m\u001b[0m\u001b[0m\n\u001b[0m\u001b[1;32m      3\u001b[0m \u001b[0;32mfrom\u001b[0m \u001b[0mpyspark\u001b[0m\u001b[0;34m.\u001b[0m\u001b[0msql\u001b[0m \u001b[0;32mimport\u001b[0m \u001b[0mSparkSession\u001b[0m\u001b[0;34m\u001b[0m\u001b[0;34m\u001b[0m\u001b[0m\n\u001b[1;32m      4\u001b[0m \u001b[0;32mimport\u001b[0m \u001b[0mpyspark\u001b[0m\u001b[0;34m.\u001b[0m\u001b[0msql\u001b[0m\u001b[0;34m.\u001b[0m\u001b[0mfunctions\u001b[0m \u001b[0;32mas\u001b[0m \u001b[0mf\u001b[0m\u001b[0;34m\u001b[0m\u001b[0;34m\u001b[0m\u001b[0m\n\u001b[1;32m      5\u001b[0m \u001b[0;34m\u001b[0m\u001b[0m\n",
      "\u001b[0;32m~/dev/titanic_pyspark/venv/lib/python3.8/site-packages/pyspark/context.py\u001b[0m in \u001b[0;36m__init__\u001b[0;34m(self, master, appName, sparkHome, pyFiles, environment, batchSize, serializer, conf, gateway, jsc, profiler_cls)\u001b[0m\n\u001b[1;32m    131\u001b[0m                 \" is not allowed as it is a security risk.\")\n\u001b[1;32m    132\u001b[0m \u001b[0;34m\u001b[0m\u001b[0m\n\u001b[0;32m--> 133\u001b[0;31m         \u001b[0mSparkContext\u001b[0m\u001b[0;34m.\u001b[0m\u001b[0m_ensure_initialized\u001b[0m\u001b[0;34m(\u001b[0m\u001b[0mself\u001b[0m\u001b[0;34m,\u001b[0m \u001b[0mgateway\u001b[0m\u001b[0;34m=\u001b[0m\u001b[0mgateway\u001b[0m\u001b[0;34m,\u001b[0m \u001b[0mconf\u001b[0m\u001b[0;34m=\u001b[0m\u001b[0mconf\u001b[0m\u001b[0;34m)\u001b[0m\u001b[0;34m\u001b[0m\u001b[0;34m\u001b[0m\u001b[0m\n\u001b[0m\u001b[1;32m    134\u001b[0m         \u001b[0;32mtry\u001b[0m\u001b[0;34m:\u001b[0m\u001b[0;34m\u001b[0m\u001b[0;34m\u001b[0m\u001b[0m\n\u001b[1;32m    135\u001b[0m             self._do_init(master, appName, sparkHome, pyFiles, environment, batchSize, serializer,\n",
      "\u001b[0;32m~/dev/titanic_pyspark/venv/lib/python3.8/site-packages/pyspark/context.py\u001b[0m in \u001b[0;36m_ensure_initialized\u001b[0;34m(cls, instance, gateway, conf)\u001b[0m\n\u001b[1;32m    334\u001b[0m \u001b[0;34m\u001b[0m\u001b[0m\n\u001b[1;32m    335\u001b[0m                     \u001b[0;31m# Raise error if there is already a running Spark context\u001b[0m\u001b[0;34m\u001b[0m\u001b[0;34m\u001b[0m\u001b[0;34m\u001b[0m\u001b[0m\n\u001b[0;32m--> 336\u001b[0;31m                     raise ValueError(\n\u001b[0m\u001b[1;32m    337\u001b[0m                         \u001b[0;34m\"Cannot run multiple SparkContexts at once; \"\u001b[0m\u001b[0;34m\u001b[0m\u001b[0;34m\u001b[0m\u001b[0m\n\u001b[1;32m    338\u001b[0m                         \u001b[0;34m\"existing SparkContext(app=%s, master=%s)\"\u001b[0m\u001b[0;34m\u001b[0m\u001b[0;34m\u001b[0m\u001b[0m\n",
      "\u001b[0;31mValueError\u001b[0m: Cannot run multiple SparkContexts at once; existing SparkContext(app=pyspark-shell, master=local[*]) created by __init__ at <ipython-input-1-110e88b7089a>:2 "
     ]
    }
   ],
   "source": [
    "from pyspark import SparkContext\n",
    "sc = SparkContext()\n",
    "from pyspark.sql import SparkSession\n",
    "import pyspark.sql.functions as f\n",
    "\n",
    "spark = SparkSession \\\n",
    "   .builder \\\n",
    "   .appName(\"Python Spark regression example\") \\\n",
    "   .config(\"spark.some.config.option\", \"some-value\") \\\n",
    "   .getOrCreate()"
   ]
  },
  {
   "cell_type": "code",
   "execution_count": 43,
   "metadata": {},
   "outputs": [],
   "source": [
    "df = spark.read.csv('titanic.csv',header=True, inferSchema = True)"
   ]
  },
  {
   "cell_type": "code",
   "execution_count": 44,
   "metadata": {},
   "outputs": [
    {
     "name": "stdout",
     "output_type": "stream",
     "text": [
      "+-----------+--------+------+--------------------+------+----+-----+-----+----------------+-------+-----+--------+\n",
      "|PassengerId|Survived|Pclass|                Name|   Sex| Age|SibSp|Parch|          Ticket|   Fare|Cabin|Embarked|\n",
      "+-----------+--------+------+--------------------+------+----+-----+-----+----------------+-------+-----+--------+\n",
      "|          1|       0|     3|Braund, Mr. Owen ...|  male|22.0|    1|    0|       A/5 21171|   7.25| null|       S|\n",
      "|          2|       1|     1|Cumings, Mrs. Joh...|female|38.0|    1|    0|        PC 17599|71.2833|  C85|       C|\n",
      "|          3|       1|     3|Heikkinen, Miss. ...|female|26.0|    0|    0|STON/O2. 3101282|  7.925| null|       S|\n",
      "|          4|       1|     1|Futrelle, Mrs. Ja...|female|35.0|    1|    0|          113803|   53.1| C123|       S|\n",
      "|          5|       0|     3|Allen, Mr. Willia...|  male|35.0|    0|    0|          373450|   8.05| null|       S|\n",
      "+-----------+--------+------+--------------------+------+----+-----+-----+----------------+-------+-----+--------+\n",
      "only showing top 5 rows\n",
      "\n"
     ]
    }
   ],
   "source": [
    "df.show(5)"
   ]
  },
  {
   "cell_type": "code",
   "execution_count": 45,
   "metadata": {},
   "outputs": [
    {
     "name": "stdout",
     "output_type": "stream",
     "text": [
      "+-----------+--------+------+--------------------+------+----+-----+-----+-------------+--------+-----+--------+\n",
      "|PassengerId|Survived|Pclass|                Name|   Sex| Age|SibSp|Parch|       Ticket|    Fare|Cabin|Embarked|\n",
      "+-----------+--------+------+--------------------+------+----+-----+-----+-------------+--------+-----+--------+\n",
      "|          2|       1|     1|Cumings, Mrs. Joh...|female|38.0|    1|    0|     PC 17599| 71.2833|  C85|       C|\n",
      "|         10|       1|     2|Nasser, Mrs. Nich...|female|14.0|    1|    0|       237736| 30.0708| null|       C|\n",
      "|         20|       1|     3|Masselmani, Mrs. ...|female|null|    0|    0|         2649|   7.225| null|       C|\n",
      "|         27|       0|     3|Emir, Mr. Farred ...|  male|null|    0|    0|         2631|   7.225| null|       C|\n",
      "|         31|       0|     1|Uruchurtu, Don. M...|  male|40.0|    0|    0|     PC 17601| 27.7208| null|       C|\n",
      "|         32|       1|     1|Spencer, Mrs. Wil...|female|null|    1|    0|     PC 17569|146.5208|  B78|       C|\n",
      "|         35|       0|     1|Meyer, Mr. Edgar ...|  male|28.0|    1|    0|     PC 17604| 82.1708| null|       C|\n",
      "|         37|       1|     3|    Mamee, Mr. Hanna|  male|null|    0|    0|         2677|  7.2292| null|       C|\n",
      "|         40|       1|     3|Nicola-Yarred, Mi...|female|14.0|    1|    0|         2651| 11.2417| null|       C|\n",
      "|         43|       0|     3| Kraeff, Mr. Theodor|  male|null|    0|    0|       349253|  7.8958| null|       C|\n",
      "|         44|       1|     2|Laroche, Miss. Si...|female| 3.0|    1|    2|SC/Paris 2123| 41.5792| null|       C|\n",
      "|         49|       0|     3| Samaan, Mr. Youssef|  male|null|    2|    0|         2662| 21.6792| null|       C|\n",
      "|         53|       1|     1|Harper, Mrs. Henr...|female|49.0|    1|    0|     PC 17572| 76.7292|  D33|       C|\n",
      "|         55|       0|     1|Ostby, Mr. Engelh...|  male|65.0|    0|    1|       113509| 61.9792|  B30|       C|\n",
      "|         58|       0|     3| Novel, Mr. Mansouer|  male|28.5|    0|    0|         2697|  7.2292| null|       C|\n",
      "|         61|       0|     3|Sirayanian, Mr. O...|  male|22.0|    0|    0|         2669|  7.2292| null|       C|\n",
      "|         65|       0|     1|Stewart, Mr. Albe...|  male|null|    0|    0|     PC 17605| 27.7208| null|       C|\n",
      "|         66|       1|     3|Moubarek, Master....|  male|null|    1|    1|         2661| 15.2458| null|       C|\n",
      "|         74|       0|     3|Chronopoulos, Mr....|  male|26.0|    1|    0|         2680| 14.4542| null|       C|\n",
      "|         97|       0|     1|Goldschmidt, Mr. ...|  male|71.0|    0|    0|     PC 17754| 34.6542|   A5|       C|\n",
      "+-----------+--------+------+--------------------+------+----+-----+-----+-------------+--------+-----+--------+\n",
      "only showing top 20 rows\n",
      "\n"
     ]
    }
   ],
   "source": [
    "df.filter(df.Embarked == 'C').show()"
   ]
  },
  {
   "cell_type": "code",
   "execution_count": 55,
   "metadata": {},
   "outputs": [],
   "source": [
    "unique = df.where(df.Embarked.isNotNull()).select('Embarked').distinct().rdd.map(lambda r: r.Embarked).collect()"
   ]
  },
  {
   "cell_type": "code",
   "execution_count": 61,
   "metadata": {},
   "outputs": [
    {
     "data": {
      "text/plain": [
       "['Q', 'C', 'S']"
      ]
     },
     "execution_count": 61,
     "metadata": {},
     "output_type": "execute_result"
    }
   ],
   "source": [
    "unique"
   ]
  },
  {
   "cell_type": "code",
   "execution_count": 62,
   "metadata": {},
   "outputs": [
    {
     "data": {
      "text/plain": [
       "3"
      ]
     },
     "execution_count": 62,
     "metadata": {},
     "output_type": "execute_result"
    }
   ],
   "source": [
    "len(unique)"
   ]
  },
  {
   "cell_type": "code",
   "execution_count": 68,
   "metadata": {},
   "outputs": [],
   "source": [
    "N_df = df.where(df.Name.isNotNull())"
   ]
  },
  {
   "cell_type": "code",
   "execution_count": 70,
   "metadata": {},
   "outputs": [],
   "source": [
    "names_of_female_survivors_from_port_c = N_df.filter((df.Pclass == 1) & (df.Sex == 'female') & (df.Survived == 1) & (df.Embarked == 'C')).rdd.map(lambda r: r.Name).collect()\n",
    "\n"
   ]
  },
  {
   "cell_type": "code",
   "execution_count": 71,
   "metadata": {},
   "outputs": [
    {
     "name": "stdout",
     "output_type": "stream",
     "text": [
      "Cumings, Mrs. John Bradley (Florence Briggs Thayer)\n",
      "Spencer, Mrs. William Augustus (Marie Eugenie)\n",
      "Harper, Mrs. Henry Sleeper (Myna Haxtun)\n",
      "Brown, Mrs. James Joseph (Margaret Tobin)\n",
      "Lurette, Miss. Elise\n",
      "Newell, Miss. Madeleine\n",
      "Bazzani, Miss. Albina\n",
      "Thorne, Mrs. Gertrude Maybelle\n",
      "Ward, Miss. Anna\n",
      "Bishop, Mrs. Dickinson H (Helen Walton)\n",
      "Baxter, Mrs. James (Helene DeLaudeniere Chaput)\n",
      "Fleming, Miss. Margaret\n",
      "Penasco y Castellana, Mrs. Victor de Satode (Maria Josefa Perez de Soto y Vallejo)\n",
      "Francatelli, Miss. Laura Mabel\n",
      "Hays, Miss. Margaret Bechstein\n",
      "Ryerson, Miss. Emily Borie\n",
      "Spedden, Mrs. Frederic Oakley (Margaretta Corning Stone)\n",
      "Young, Miss. Marie Grice\n",
      "Hippach, Miss. Jean Gertrude\n",
      "Burns, Miss. Elizabeth Margaret\n",
      "Warren, Mrs. Frank Manley (Anna Sophia Atkinson)\n",
      "Aubart, Mme. Leontine Pauline\n",
      "Meyer, Mrs. Edgar Joseph (Leila Saks)\n",
      "Bidois, Miss. Rosalie\n",
      "Newell, Miss. Marjorie\n",
      "Eustis, Miss. Elizabeth Mussey\n",
      "Rothschild, Mrs. Martin (Elizabeth L. Barrett)\n",
      "Hippach, Mrs. Louis Albert (Ida Sophia Fischer)\n",
      "LeRoy, Miss. Bertha\n",
      "Frolicher, Miss. Hedwig Margaritha\n",
      "\"Duff Gordon, Lady. (Lucille Christiana Sutherland) (\"\"Mrs Morgan\"\")\"\n",
      "Thayer, Mrs. John Borland (Marian Longstreth Morris)\n",
      "Stephenson, Mrs. Walter Bertram (Martha Eustis)\n",
      "Sagesser, Mlle. Emma\n",
      "Astor, Mrs. John Jacob (Madeleine Talmadge Force)\n",
      "\"Mayne, Mlle. Berthe Antonine (\"\"Mrs de Villiers\"\")\"\n",
      "Endres, Miss. Caroline Louise\n",
      "\"Ryerson, Miss. Susan Parker \"\"Suzette\"\"\"\n",
      "Compton, Miss. Sara Rebecca\n",
      "Serepeca, Miss. Augusta\n",
      "Goldenberg, Mrs. Samuel L (Edwiga Grabowska)\n",
      "Potter, Mrs. Thomas Jr (Lily Alexenia Wilson)\n"
     ]
    }
   ],
   "source": [
    "for i in names_of_female_survivors_from_port_c:\n",
    "    print(i)"
   ]
  }
 ],
 "metadata": {
  "kernelspec": {
   "display_name": "Python 3",
   "language": "python",
   "name": "python3"
  },
  "language_info": {
   "codemirror_mode": {
    "name": "ipython",
    "version": 3
   },
   "file_extension": ".py",
   "mimetype": "text/x-python",
   "name": "python",
   "nbconvert_exporter": "python",
   "pygments_lexer": "ipython3",
   "version": "3.8.5"
  }
 },
 "nbformat": 4,
 "nbformat_minor": 4
}
